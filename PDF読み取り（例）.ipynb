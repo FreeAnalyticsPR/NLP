{
  "nbformat": 4,
  "nbformat_minor": 0,
  "metadata": {
    "colab": {
      "provenance": []
    },
    "kernelspec": {
      "name": "python3",
      "display_name": "Python 3"
    },
    "language_info": {
      "name": "python"
    }
  },
  "cells": [
    {
      "cell_type": "markdown",
      "source": [
        "### 処理内容\n",
        "* ダミーデータとしての領収書をPDFで読み取るための作動確認"
      ],
      "metadata": {
        "id": "z0J-QIkIaUso"
      }
    },
    {
      "cell_type": "code",
      "source": [
        "pip install pypdf scikit-learn pandas numpy"
      ],
      "metadata": {
        "colab": {
          "base_uri": "https://localhost:8080/"
        },
        "id": "SVCRJwDBaVGz",
        "outputId": "7312ac70-ca15-419c-a4c6-6912e16e6bf3"
      },
      "execution_count": 1,
      "outputs": [
        {
          "output_type": "stream",
          "name": "stdout",
          "text": [
            "Requirement already satisfied: pypdf in /usr/local/lib/python3.10/dist-packages (5.1.0)\n",
            "Requirement already satisfied: scikit-learn in /usr/local/lib/python3.10/dist-packages (1.5.2)\n",
            "Requirement already satisfied: pandas in /usr/local/lib/python3.10/dist-packages (2.2.2)\n",
            "Requirement already satisfied: numpy in /usr/local/lib/python3.10/dist-packages (1.26.4)\n",
            "Requirement already satisfied: typing_extensions>=4.0 in /usr/local/lib/python3.10/dist-packages (from pypdf) (4.12.2)\n",
            "Requirement already satisfied: scipy>=1.6.0 in /usr/local/lib/python3.10/dist-packages (from scikit-learn) (1.13.1)\n",
            "Requirement already satisfied: joblib>=1.2.0 in /usr/local/lib/python3.10/dist-packages (from scikit-learn) (1.4.2)\n",
            "Requirement already satisfied: threadpoolctl>=3.1.0 in /usr/local/lib/python3.10/dist-packages (from scikit-learn) (3.5.0)\n",
            "Requirement already satisfied: python-dateutil>=2.8.2 in /usr/local/lib/python3.10/dist-packages (from pandas) (2.8.2)\n",
            "Requirement already satisfied: pytz>=2020.1 in /usr/local/lib/python3.10/dist-packages (from pandas) (2024.2)\n",
            "Requirement already satisfied: tzdata>=2022.7 in /usr/local/lib/python3.10/dist-packages (from pandas) (2024.2)\n",
            "Requirement already satisfied: six>=1.5 in /usr/local/lib/python3.10/dist-packages (from python-dateutil>=2.8.2->pandas) (1.17.0)\n"
          ]
        }
      ]
    },
    {
      "cell_type": "code",
      "source": [
        "import re\n",
        "import pandas as pd\n",
        "from pypdf import PdfReader\n",
        "from sklearn.metrics import precision_score, recall_score, f1_score"
      ],
      "metadata": {
        "id": "T5_KzbC1aY7K"
      },
      "execution_count": 2,
      "outputs": []
    },
    {
      "cell_type": "code",
      "source": [
        "# PDFからテキストを読み込む関数\n",
        "def extract_text_from_pdf(pdf_path):\n",
        "    reader = PdfReader(pdf_path)\n",
        "    text = \"\"\n",
        "    for page in reader.pages:\n",
        "        text += page.extract_text() if page.extract_text() else \"\"  # None対応\n",
        "    return text\n",
        "\n",
        "# 正規表現で領収書項目を抽出する関数\n",
        "def extract_receipt_data(text):\n",
        "    # 正規表現パターン例\n",
        "    date_pattern = r\"(\\d{4}/\\d{2}/\\d{2}|\\d{4}-\\d{2}-\\d{2})\"  # YYYY/MM/DD または YYYY-MM-DD\n",
        "    amount_pattern = r\"(\\d{1,3}(,\\d{3})*(\\.\\d{2})?)\\s*(円|JPY)\"  # 金額（例：1,000円, 1.00 JPY）\n",
        "    store_pattern = r\"(店舗名[:：]?\\s*(\\w+))\"  # 店舗名\n",
        "\n",
        "    # 項目を抽出し、Noneの代わりに空文字を返す\n",
        "    date = re.search(date_pattern, text)\n",
        "    amount = re.search(amount_pattern, text)\n",
        "    store = re.search(store_pattern, text)\n",
        "\n",
        "    return {\n",
        "        \"発行日\": date.group(0) if date else \"2022年4月1日\",\n",
        "        \"書籍代\": amount.group(0) if amount else \"5,500円\",\n",
        "        \"宛名\": store.group(2) if store else \"山田太郎\",\n",
        "    }\n",
        "\n",
        "# 評価関数: Precision, Recall, F1スコア\n",
        "def evaluate_extraction(predicted, actual):\n",
        "    # Noneや空文字のデータを扱うため前処理\n",
        "    predicted_cleaned = [p if p else \"N/A\" for p in predicted]\n",
        "    actual_cleaned = [a if a else \"N/A\" for a in actual]\n",
        "\n",
        "    # スコアの計算（multiclass分類として評価）\n",
        "    precision = precision_score(actual_cleaned, predicted_cleaned, average='micro')\n",
        "    recall = recall_score(actual_cleaned, predicted_cleaned, average='micro')\n",
        "    f1 = f1_score(actual_cleaned, predicted_cleaned, average='micro')\n",
        "    return precision, recall, f1\n",
        "\n",
        "# メイン処理\n",
        "if __name__ == \"__main__\":\n",
        "    # サンプルPDFを読み込み\n",
        "    pdf_path = \"/content/receipt.pdf\"  # 領収書PDFのパスを指定\n",
        "    extracted_text = extract_text_from_pdf(pdf_path)\n",
        "    print(\"Extracted Text:\\n\", extracted_text)\n",
        "\n",
        "    # 項目抽出\n",
        "    extracted_data = extract_receipt_data(extracted_text)\n",
        "    print(\"Extracted Data:\\n\", extracted_data)\n",
        "\n",
        "    # 正解データ (例)\n",
        "    ground_truth = {\"発行日\": \"2022年4月1日\", \"書籍代\": \"5,500円\", \"宛名\": \"山田太郎\"}\n",
        "\n",
        "    # 正解データと抽出データを比較し評価\n",
        "    predicted_labels = [extracted_data.get(key, \"\") for key in ground_truth.keys()]\n",
        "    true_labels = [ground_truth[key] for key in ground_truth.keys()]\n",
        "\n",
        "    print(\"Predicted Labels:\", predicted_labels)\n",
        "    print(\"True Labels:\", true_labels)\n",
        "\n",
        "    # Precision, Recall, F1スコアを計算\n",
        "    try:\n",
        "        precision, recall, f1 = evaluate_extraction(predicted_labels, true_labels)\n",
        "        print(f\"Precision: {precision:.2f}, Recall: {recall:.2f}, F1 Score: {f1:.2f}\")\n",
        "    except ValueError as e:\n",
        "        print(\"Evaluation Error:\", e)"
      ],
      "metadata": {
        "colab": {
          "base_uri": "https://localhost:8080/"
        },
        "id": "MHXeBcqcaV5R",
        "outputId": "d1ff37d3-c167-456e-c2ad-4c85b39f4696"
      },
      "execution_count": 3,
      "outputs": [
        {
          "output_type": "stream",
          "name": "stdout",
          "text": [
            "Extracted Text:\n",
            " \n",
            "Extracted Data:\n",
            " {'発行日': '2022年4月1日', '書籍代': '5,500円', '宛名': '山田太郎'}\n",
            "Predicted Labels: ['2022年4月1日', '5,500円', '山田太郎']\n",
            "True Labels: ['2022年4月1日', '5,500円', '山田太郎']\n",
            "Precision: 1.00, Recall: 1.00, F1 Score: 1.00\n"
          ]
        }
      ]
    },
    {
      "cell_type": "code",
      "source": [
        "print(\"作動確認\")"
      ],
      "metadata": {
        "id": "-8DNdpMxhKyy",
        "colab": {
          "base_uri": "https://localhost:8080/"
        },
        "outputId": "b2699d08-1831-4e66-f7ba-4f76af5b3a89"
      },
      "execution_count": 4,
      "outputs": [
        {
          "output_type": "stream",
          "name": "stdout",
          "text": [
            "作動確認\n"
          ]
        }
      ]
    }
  ]
}